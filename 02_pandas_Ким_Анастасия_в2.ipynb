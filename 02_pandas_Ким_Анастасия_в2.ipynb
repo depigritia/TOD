{
 "cells": [
  {
   "cell_type": "markdown",
   "metadata": {},
   "source": [
    "# Pandas"
   ]
  },
  {
   "cell_type": "markdown",
   "metadata": {},
   "source": [
    "Материалы:\n",
    "* Макрушин С.В. \"Лекция 2: Библиотека Pandas\"\n",
    "* https://pandas.pydata.org/docs/user_guide/index.html#\n",
    "* https://pandas.pydata.org/docs/reference/index.html\n",
    "* Уэс Маккини. Python и анализ данных"
   ]
  },
  {
   "cell_type": "markdown",
   "metadata": {},
   "source": [
    "## Задачи для совместного разбора"
   ]
  },
  {
   "cell_type": "markdown",
   "metadata": {},
   "source": [
    "1. Загрузите данные из файла `sp500hst.txt` и обозначьте столбцы в соответствии с содержимым: `\"date\", \"ticker\", \"open\", \"high\", \"low\", \"close\", \"volume\"`."
   ]
  },
  {
   "cell_type": "code",
   "execution_count": null,
   "metadata": {},
   "outputs": [],
   "source": []
  },
  {
   "cell_type": "markdown",
   "metadata": {},
   "source": [
    "2. Рассчитайте среднее значение показателей для каждого из столбцов c номерами 3-6."
   ]
  },
  {
   "cell_type": "markdown",
   "metadata": {},
   "source": [
    "3. Добавьте столбец, содержащий только число месяца, к которому относится дата."
   ]
  },
  {
   "cell_type": "markdown",
   "metadata": {},
   "source": [
    "4. Рассчитайте суммарный объем торгов для для одинаковых значений тикеров."
   ]
  },
  {
   "cell_type": "markdown",
   "metadata": {},
   "source": [
    "5. Загрузите данные из файла sp500hst.txt и обозначьте столбцы в соответствии с содержимым: \"date\", \"ticker\", \"open\", \"high\", \"low\", \"close\", \"volume\". Добавьте столбец с расшифровкой названия тикера, используя данные из файла `sp_data2.csv` . В случае нехватки данных об именах тикеров корректно обработать их."
   ]
  },
  {
   "cell_type": "markdown",
   "metadata": {},
   "source": [
    "## Лабораторная работа №2"
   ]
  },
  {
   "cell_type": "markdown",
   "metadata": {},
   "source": [
    "### Базовые операции с `DataFrame`"
   ]
  },
  {
   "cell_type": "markdown",
   "metadata": {},
   "source": [
    "1.1 В файлах `recipes_sample.csv` и `reviews_sample.csv` находится информация об рецептах блюд и отзывах на эти рецепты соответственно. Загрузите данные из файлов в виде `pd.DataFrame` с названиями `recipes` и `reviews`. Обратите внимание на корректное считывание столбца с индексами в таблице `reviews` (безымянный столбец)."
   ]
  },
  {
   "cell_type": "code",
   "execution_count": 6,
   "metadata": {},
   "outputs": [
    {
     "name": "stdout",
     "output_type": "stream",
     "text": [
      "                                       name     id  minutes  contributor_id  \\\n",
      "0     george s at the cove  black bean soup  44123       90           35193   \n",
      "1        healthy for them  yogurt popsicles  67664       10           91970   \n",
      "2              i can t believe it s spinach  38798       30            1533   \n",
      "3                      italian  gut busters  35173       45           22724   \n",
      "4  love is in the air  beef fondue   sauces  84797       25            4470   \n",
      "\n",
      "    submitted  n_steps                                        description  \\\n",
      "0  2002-10-25      NaN  an original recipe created by chef scott meska...   \n",
      "1  2003-07-26      NaN  my children and their friends ask for my homem...   \n",
      "2  2002-08-29      NaN            these were so go, it surprised even me.   \n",
      "3  2002-07-27      NaN  my sister-in-law made these for us at a family...   \n",
      "4  2004-02-23      4.0  i think a fondue is a very romantic casual din...   \n",
      "\n",
      "   n_ingredients  \n",
      "0           18.0  \n",
      "1            NaN  \n",
      "2            8.0  \n",
      "3            NaN  \n",
      "4            NaN  \n",
      "           user_id  recipe_id        date  rating  \\\n",
      "370476       21752      57993  2003-05-01       5   \n",
      "624300      431813     142201  2007-09-16       5   \n",
      "187037      400708     252013  2008-01-10       4   \n",
      "706134  2001852463     404716  2017-12-11       5   \n",
      "312179       95810     129396  2008-03-14       5   \n",
      "\n",
      "                                                   review  \n",
      "370476  Last week whole sides of frozen salmon fillet ...  \n",
      "624300  So simple and so tasty!  I used a yellow capsi...  \n",
      "187037  Very nice breakfast HH, easy to make and yummy...  \n",
      "706134  These are a favorite for the holidays and so e...  \n",
      "312179  Excellent soup!  The tomato flavor is just gre...  \n"
     ]
    }
   ],
   "source": [
    "import pandas as pd\n",
    "\n",
    "recipes = pd.read_csv(\"recipes_sample.csv\")\n",
    "reviews = pd.read_csv(\"reviews_sample.csv\", index_col=0)  # столбец индекс\n",
    "\n",
    "# загрузка в 2 отдельные датафрейма и выведение первых строк\n",
    "print(recipes.head())\n",
    "\n",
    "print(reviews.head())"
   ]
  },
  {
   "cell_type": "markdown",
   "metadata": {},
   "source": [
    "1.2 Для каждой из таблиц выведите основные параметры:\n",
    "* количество точек данных (строк);\n",
    "* количество столбцов;\n",
    "* тип данных каждого столбца."
   ]
  },
  {
   "cell_type": "code",
   "execution_count": 10,
   "metadata": {},
   "outputs": [
    {
     "name": "stdout",
     "output_type": "stream",
     "text": [
      "строки - 30000\n",
      "столбцы - 8\n",
      "name               object\n",
      "id                  int64\n",
      "minutes             int64\n",
      "contributor_id      int64\n",
      "submitted          object\n",
      "n_steps           float64\n",
      "description        object\n",
      "n_ingredients     float64\n",
      "dtype: object\n",
      "строки 126696\n",
      "столбцы 5\n",
      "user_id       int64\n",
      "recipe_id     int64\n",
      "date         object\n",
      "rating        int64\n",
      "review       object\n",
      "dtype: object\n"
     ]
    }
   ],
   "source": [
    "# recipes\n",
    "print(\"строки -\", recipes.shape[0])\n",
    "print(\"столбцы -\", recipes.shape[1])\n",
    "print(recipes.dtypes)\n",
    "\n",
    "# reviews\n",
    "print(\"строки\", reviews.shape[0])\n",
    "print(\"столбцы\", reviews.shape[1])\n",
    "print(reviews.dtypes)\n"
   ]
  },
  {
   "cell_type": "markdown",
   "metadata": {},
   "source": [
    "1.3 Исследуйте, в каких столбцах таблиц содержатся пропуски. Посчитайте долю строк, содержащих пропуски, в отношении к общему количеству строк."
   ]
  },
  {
   "cell_type": "code",
   "execution_count": 15,
   "metadata": {},
   "outputs": [
    {
     "name": "stdout",
     "output_type": "stream",
     "text": [
      "name              0.000000\n",
      "id                0.000000\n",
      "minutes           0.000000\n",
      "contributor_id    0.000000\n",
      "submitted         0.000000\n",
      "n_steps           0.373000\n",
      "description       0.020767\n",
      "n_ingredients     0.296000\n",
      "dtype: float64\n",
      "56.85%\n",
      "user_id      0.000000\n",
      "recipe_id    0.000000\n",
      "date         0.000000\n",
      "rating       0.000000\n",
      "review       0.000134\n",
      "dtype: float64\n",
      "0.01%\n"
     ]
    }
   ],
   "source": [
    "# строки с пропусками метод isna(). mean() пропущенные значения \n",
    "missing_values_recipes = recipes.isna().mean()\n",
    "print(missing_values_recipes)\n",
    "\n",
    "# процент строк с пропусками\n",
    "percentage_missing_recipes = (recipes.isna().any(axis=1).mean()) * 100\n",
    "print(\"{:.2f}%\".format(percentage_missing_recipes))\n",
    "\n",
    "# поиск пропущенных значений\n",
    "missing_values_reviews = reviews.isna().mean()\n",
    "print(missing_values_reviews)\n",
    "\n",
    "# процент строк с пропусками\n",
    "percentage_missing_reviews = (reviews.isna().any(axis=1).mean()) * 100\n",
    "print(\"{:.2f}%\".format(percentage_missing_reviews))\n"
   ]
  },
  {
   "cell_type": "markdown",
   "metadata": {},
   "source": [
    "1.4 Рассчитайте среднее значение для каждого из числовых столбцов (где это имеет смысл)."
   ]
  },
  {
   "cell_type": "code",
   "execution_count": 17,
   "metadata": {},
   "outputs": [
    {
     "name": "stdout",
     "output_type": "stream",
     "text": [
      "id                2.218793e+05\n",
      "minutes           1.233581e+02\n",
      "contributor_id    5.635901e+06\n",
      "n_steps           9.805582e+00\n",
      "n_ingredients     9.008286e+00\n",
      "dtype: float64\n",
      "user_id      1.408013e+08\n",
      "recipe_id    1.600944e+05\n",
      "rating       4.410802e+00\n",
      "dtype: float64\n"
     ]
    }
   ],
   "source": [
    "num_columns_recipes = recipes.select_dtypes(include=['int', 'float'])   # фильтр только числовых столбцов\n",
    "mean_values_recipes = num_columns_recipes.mean()\n",
    "print(mean_values_recipes)\n",
    "\n",
    "num_columns_reviews = reviews.select_dtypes(include=['int', 'float'])\n",
    "mean_values_reviews = num_columns_reviews.mean()\n",
    "print(mean_values_reviews)"
   ]
  },
  {
   "cell_type": "markdown",
   "metadata": {},
   "source": [
    "1.5 Создайте серию из 10 случайных названий рецептов."
   ]
  },
  {
   "cell_type": "code",
   "execution_count": 21,
   "metadata": {},
   "outputs": [
    {
     "name": "stdout",
     "output_type": "stream",
     "text": [
      "['pumpkin pudding  cupcakes', 'hard boiled eggs wrapped in hash browns   sausage  5fix', 'nutella granola', 'one pan white fish tomato alfredo', 'kahlua coffee truffles', 'spicy eggplant cutlets', 'ditalini salad', 'pan seared scallops with bacon and spinach', 'lemon ice cream surprise', 'one pot spicy sausage and lentils']\n"
     ]
    }
   ],
   "source": [
    "import random\n",
    "\n",
    "# все названия (список)\n",
    "recipe_names = recipes['name']\n",
    "\n",
    "# 10 рандомных\n",
    "random_recipe_names = random.sample(recipe_names.tolist(), 10)\n",
    "\n",
    "print(random_recipe_names)"
   ]
  },
  {
   "cell_type": "markdown",
   "metadata": {},
   "source": [
    "1.6 Измените индекс в таблице `reviews`, пронумеровав строки, начиная с нуля."
   ]
  },
  {
   "cell_type": "code",
   "execution_count": 22,
   "metadata": {},
   "outputs": [
    {
     "name": "stdout",
     "output_type": "stream",
     "text": [
      "      user_id  recipe_id        date  rating  \\\n",
      "0       21752      57993  2003-05-01       5   \n",
      "1      431813     142201  2007-09-16       5   \n",
      "2      400708     252013  2008-01-10       4   \n",
      "3  2001852463     404716  2017-12-11       5   \n",
      "4       95810     129396  2008-03-14       5   \n",
      "\n",
      "                                              review  \n",
      "0  Last week whole sides of frozen salmon fillet ...  \n",
      "1  So simple and so tasty!  I used a yellow capsi...  \n",
      "2  Very nice breakfast HH, easy to make and yummy...  \n",
      "3  These are a favorite for the holidays and so e...  \n",
      "4  Excellent soup!  The tomato flavor is just gre...  \n"
     ]
    }
   ],
   "source": [
    "# пронумеровка с 0\n",
    "reviews.reset_index(drop=True, inplace=True)\n",
    "\n",
    "print(reviews.head())"
   ]
  },
  {
   "cell_type": "markdown",
   "metadata": {},
   "source": [
    "1.7 Выведите информацию о рецептах, время выполнения которых не больше 20 минут и кол-во ингредиентов в которых не больше 5."
   ]
  },
  {
   "cell_type": "code",
   "execution_count": 25,
   "metadata": {},
   "outputs": [
    {
     "name": "stdout",
     "output_type": "stream",
     "text": [
      "                                                    name  minutes  \\\n",
      "28                                   quick biscuit bread       20   \n",
      "60                         peas  fit for a king or queen       20   \n",
      "90                     hawaiian sunrise           mimosa        5   \n",
      "91            tasty dish s   banana pudding in 2 minutes        2   \n",
      "94                                    1 minute meatballs       13   \n",
      "...                                                  ...      ...   \n",
      "29873  zip and steam red potatoes with butter and garlic       13   \n",
      "29874                          ziplock vanilla ice cream       10   \n",
      "29905                      zucchini and corn with cheese       15   \n",
      "29980               zucchini with jalapeno monterey jack       10   \n",
      "29983                          zucchini with serrano ham       15   \n",
      "\n",
      "       n_ingredients  \n",
      "28               5.0  \n",
      "60               5.0  \n",
      "90               3.0  \n",
      "91               4.0  \n",
      "94               2.0  \n",
      "...              ...  \n",
      "29873            5.0  \n",
      "29874            3.0  \n",
      "29905            5.0  \n",
      "29980            3.0  \n",
      "29983            5.0  \n",
      "\n",
      "[2019 rows x 3 columns]\n"
     ]
    }
   ],
   "source": [
    "# фильтр по времени и кол-во ингредиентов\n",
    "filtered_recipes = recipes[(recipes['minutes'] <= 20) & (recipes['n_ingredients'] <= 5)]\n",
    "\n",
    "print(filtered_recipes[['name', 'minutes', 'n_ingredients']])"
   ]
  },
  {
   "cell_type": "markdown",
   "metadata": {},
   "source": [
    "### Работа с датами в `pandas`"
   ]
  },
  {
   "cell_type": "markdown",
   "metadata": {},
   "source": [
    "2.1 Преобразуйте столбец `submitted` из таблицы `recipes` в формат времени. Модифицируйте решение задачи 1.1 так, чтобы считать столбец сразу в нужном формате."
   ]
  },
  {
   "cell_type": "code",
   "execution_count": 31,
   "metadata": {},
   "outputs": [
    {
     "name": "stdout",
     "output_type": "stream",
     "text": [
      "                                       name     id  minutes  contributor_id  \\\n",
      "0     george s at the cove  black bean soup  44123       90           35193   \n",
      "1        healthy for them  yogurt popsicles  67664       10           91970   \n",
      "2              i can t believe it s spinach  38798       30            1533   \n",
      "3                      italian  gut busters  35173       45           22724   \n",
      "4  love is in the air  beef fondue   sauces  84797       25            4470   \n",
      "\n",
      "   submitted  n_steps                                        description  \\\n",
      "0 2002-10-25      NaN  an original recipe created by chef scott meska...   \n",
      "1 2003-07-26      NaN  my children and their friends ask for my homem...   \n",
      "2 2002-08-29      NaN            these were so go, it surprised even me.   \n",
      "3 2002-07-27      NaN  my sister-in-law made these for us at a family...   \n",
      "4 2004-02-23      4.0  i think a fondue is a very romantic casual din...   \n",
      "\n",
      "   n_ingredients  \n",
      "0           18.0  \n",
      "1            NaN  \n",
      "2            8.0  \n",
      "3            NaN  \n",
      "4            NaN  \n"
     ]
    }
   ],
   "source": [
    "import pandas as pd\n",
    "\n",
    "# преобразование столбца submitted в формат времени\n",
    "recipes = pd.read_csv(\"recipes_sample.csv\", parse_dates=['submitted'])\n",
    "\n",
    "print(recipes.head())"
   ]
  },
  {
   "cell_type": "markdown",
   "metadata": {},
   "source": [
    "2.2 Выведите информацию о рецептах, добавленных в датасет не позже 2010 года."
   ]
  },
  {
   "cell_type": "code",
   "execution_count": 34,
   "metadata": {},
   "outputs": [
    {
     "name": "stdout",
     "output_type": "stream",
     "text": [
      "<class 'pandas.core.frame.DataFrame'>\n",
      "Int64Index: 27661 entries, 0 to 29999\n",
      "Data columns (total 8 columns):\n",
      " #   Column          Non-Null Count  Dtype         \n",
      "---  ------          --------------  -----         \n",
      " 0   name            27661 non-null  object        \n",
      " 1   id              27661 non-null  int64         \n",
      " 2   minutes         27661 non-null  int64         \n",
      " 3   contributor_id  27661 non-null  int64         \n",
      " 4   submitted       27661 non-null  datetime64[ns]\n",
      " 5   n_steps         17301 non-null  float64       \n",
      " 6   description     27038 non-null  object        \n",
      " 7   n_ingredients   19465 non-null  float64       \n",
      "dtypes: datetime64[ns](1), float64(2), int64(3), object(2)\n",
      "memory usage: 1.9+ MB\n",
      "None\n",
      "                                       name     id  minutes  contributor_id  \\\n",
      "0     george s at the cove  black bean soup  44123       90           35193   \n",
      "1        healthy for them  yogurt popsicles  67664       10           91970   \n",
      "2              i can t believe it s spinach  38798       30            1533   \n",
      "3                      italian  gut busters  35173       45           22724   \n",
      "4  love is in the air  beef fondue   sauces  84797       25            4470   \n",
      "\n",
      "   submitted  n_steps                                        description  \\\n",
      "0 2002-10-25      NaN  an original recipe created by chef scott meska...   \n",
      "1 2003-07-26      NaN  my children and their friends ask for my homem...   \n",
      "2 2002-08-29      NaN            these were so go, it surprised even me.   \n",
      "3 2002-07-27      NaN  my sister-in-law made these for us at a family...   \n",
      "4 2004-02-23      4.0  i think a fondue is a very romantic casual din...   \n",
      "\n",
      "   n_ingredients  \n",
      "0           18.0  \n",
      "1            NaN  \n",
      "2            8.0  \n",
      "3            NaN  \n",
      "4            NaN  \n"
     ]
    }
   ],
   "source": [
    "import pandas as pd\n",
    "\n",
    "# преобразование столбца \"submitted\"\n",
    "recipes = pd.read_csv(\"recipes_sample.csv\", parse_dates=['submitted'])\n",
    "\n",
    "# Фильтрация\n",
    "recipes_before_2010 = recipes[recipes['submitted'].dt.year <= 2010]\n",
    "\n",
    "print(recipes_before_2010.info())\n",
    "print(recipes_before_2010.head())"
   ]
  },
  {
   "cell_type": "markdown",
   "metadata": {},
   "source": [
    "### Работа со строковыми данными в `pandas`"
   ]
  },
  {
   "cell_type": "markdown",
   "metadata": {},
   "source": [
    "3.1  Добавьте в таблицу `recipes` столбец `description_length`, в котором хранится длина описания рецепта из столбца `description`."
   ]
  },
  {
   "cell_type": "code",
   "execution_count": 35,
   "metadata": {},
   "outputs": [
    {
     "name": "stdout",
     "output_type": "stream",
     "text": [
      "                                       name     id  minutes  contributor_id  \\\n",
      "0     george s at the cove  black bean soup  44123       90           35193   \n",
      "1        healthy for them  yogurt popsicles  67664       10           91970   \n",
      "2              i can t believe it s spinach  38798       30            1533   \n",
      "3                      italian  gut busters  35173       45           22724   \n",
      "4  love is in the air  beef fondue   sauces  84797       25            4470   \n",
      "\n",
      "   submitted  n_steps                                        description  \\\n",
      "0 2002-10-25      NaN  an original recipe created by chef scott meska...   \n",
      "1 2003-07-26      NaN  my children and their friends ask for my homem...   \n",
      "2 2002-08-29      NaN            these were so go, it surprised even me.   \n",
      "3 2002-07-27      NaN  my sister-in-law made these for us at a family...   \n",
      "4 2004-02-23      4.0  i think a fondue is a very romantic casual din...   \n",
      "\n",
      "   n_ingredients  description_length  \n",
      "0           18.0                 330  \n",
      "1            NaN                 255  \n",
      "2            8.0                  39  \n",
      "3            NaN                 154  \n",
      "4            NaN                 587  \n"
     ]
    }
   ],
   "source": [
    "import pandas as pd\n",
    "\n",
    "recipes = pd.read_csv(\"recipes_sample.csv\", parse_dates=['submitted'])\n",
    "\n",
    "# столбц description_length. \"apply\" для применения функции к каждой ячейке и сохранения результатов \n",
    "recipes['description_length'] = recipes['description'].apply(lambda x: len(str(x))) \n",
    "\n",
    "print(recipes.head())"
   ]
  },
  {
   "cell_type": "markdown",
   "metadata": {},
   "source": [
    "3.2 Измените название каждого рецепта в таблице `recipes` таким образом, чтобы каждое слово в названии начиналось с прописной буквы."
   ]
  },
  {
   "cell_type": "code",
   "execution_count": 36,
   "metadata": {},
   "outputs": [
    {
     "name": "stdout",
     "output_type": "stream",
     "text": [
      "                                       name     id  minutes  contributor_id  \\\n",
      "0     George S At The Cove  Black Bean Soup  44123       90           35193   \n",
      "1        Healthy For Them  Yogurt Popsicles  67664       10           91970   \n",
      "2              I Can T Believe It S Spinach  38798       30            1533   \n",
      "3                      Italian  Gut Busters  35173       45           22724   \n",
      "4  Love Is In The Air  Beef Fondue   Sauces  84797       25            4470   \n",
      "\n",
      "   submitted  n_steps                                        description  \\\n",
      "0 2002-10-25      NaN  an original recipe created by chef scott meska...   \n",
      "1 2003-07-26      NaN  my children and their friends ask for my homem...   \n",
      "2 2002-08-29      NaN            these were so go, it surprised even me.   \n",
      "3 2002-07-27      NaN  my sister-in-law made these for us at a family...   \n",
      "4 2004-02-23      4.0  i think a fondue is a very romantic casual din...   \n",
      "\n",
      "   n_ingredients  \n",
      "0           18.0  \n",
      "1            NaN  \n",
      "2            8.0  \n",
      "3            NaN  \n",
      "4            NaN  \n"
     ]
    }
   ],
   "source": [
    "import pandas as pd\n",
    "\n",
    "recipes = pd.read_csv(\"recipes_sample.csv\", parse_dates=['submitted'])\n",
    "\n",
    "# str.title() для прописной буквы\n",
    "recipes['name'] = recipes['name'].str.title()\n",
    "\n",
    "print(recipes.head())"
   ]
  },
  {
   "cell_type": "markdown",
   "metadata": {},
   "source": [
    "3.3 Добавьте в таблицу `recipes` столбец `name_word_count`, в котором хранится количество слов из названии рецепта (считайте, что слова в названии разделяются только пробелами). Обратите внимание, что между словами может располагаться несколько пробелов подряд."
   ]
  },
  {
   "cell_type": "code",
   "execution_count": 37,
   "metadata": {},
   "outputs": [
    {
     "name": "stdout",
     "output_type": "stream",
     "text": [
      "                                       name     id  minutes  contributor_id  \\\n",
      "0     george s at the cove  black bean soup  44123       90           35193   \n",
      "1        healthy for them  yogurt popsicles  67664       10           91970   \n",
      "2              i can t believe it s spinach  38798       30            1533   \n",
      "3                      italian  gut busters  35173       45           22724   \n",
      "4  love is in the air  beef fondue   sauces  84797       25            4470   \n",
      "\n",
      "   submitted  n_steps                                        description  \\\n",
      "0 2002-10-25      NaN  an original recipe created by chef scott meska...   \n",
      "1 2003-07-26      NaN  my children and their friends ask for my homem...   \n",
      "2 2002-08-29      NaN            these were so go, it surprised even me.   \n",
      "3 2002-07-27      NaN  my sister-in-law made these for us at a family...   \n",
      "4 2004-02-23      4.0  i think a fondue is a very romantic casual din...   \n",
      "\n",
      "   n_ingredients  name_word_count  \n",
      "0           18.0                8  \n",
      "1            NaN                5  \n",
      "2            8.0                7  \n",
      "3            NaN                3  \n",
      "4            NaN                8  \n"
     ]
    }
   ],
   "source": [
    "import pandas as pd\n",
    "\n",
    "recipes = pd.read_csv(\"recipes_sample.csv\", parse_dates=['submitted'])\n",
    "\n",
    "# + name_word_count. str.split() для разделения строки на слова\n",
    "recipes['name_word_count'] = recipes['name'].str.split().apply(lambda x: len(x))\n",
    "\n",
    "print(recipes.head())"
   ]
  },
  {
   "cell_type": "markdown",
   "metadata": {},
   "source": [
    "### Группировки таблиц `pd.DataFrame`"
   ]
  },
  {
   "cell_type": "markdown",
   "metadata": {},
   "source": [
    "4.1 Посчитайте количество рецептов, представленных каждым из участников (`contributor_id`). Какой участник добавил максимальное кол-во рецептов?"
   ]
  },
  {
   "cell_type": "code",
   "execution_count": 42,
   "metadata": {},
   "outputs": [
    {
     "name": "stdout",
     "output_type": "stream",
     "text": [
      "89831 421\n"
     ]
    }
   ],
   "source": [
    "# value_counts() подсчет кол-а уникальных значений\n",
    "contributor_recipe_counts = recipes['contributor_id'].value_counts()\n",
    "\n",
    "# idxmax() определения индекса с макс значением. \n",
    "max_contributor_id = contributor_recipe_counts.idxmax()\n",
    "max_recipe_count = contributor_recipe_counts.max()\n",
    "\n",
    "print(max_contributor_id, max_recipe_count)\n"
   ]
  },
  {
   "cell_type": "markdown",
   "metadata": {},
   "source": [
    "4.2 Посчитайте средний рейтинг к каждому из рецептов. Для скольких рецептов отсутствуют отзывы? Обратите внимание, что отзыв с нулевым рейтингом или не заполненным текстовым описанием не считается отсутствующим."
   ]
  },
  {
   "cell_type": "code",
   "execution_count": 50,
   "metadata": {},
   "outputs": [
    {
     "name": "stdout",
     "output_type": "stream",
     "text": [
      "recipe_id\n",
      "48        1.000000\n",
      "55        4.750000\n",
      "66        4.944444\n",
      "91        4.750000\n",
      "94        5.000000\n",
      "            ...   \n",
      "536547    5.000000\n",
      "536610    0.000000\n",
      "536728    4.000000\n",
      "536729    4.750000\n",
      "536747    0.000000\n",
      "Name: rating, Length: 28100, dtype: float64\n"
     ]
    }
   ],
   "source": [
    "# средний рейтинг рецепта\n",
    "average_rating_per_recipe = reviews.groupby('recipe_id')['rating'].mean()\n",
    "\n",
    "# кол-о рецептов без отзывов(не учит рейтинг 0 и отсут описанием)\n",
    "recipes_with_reviews = reviews[reviews['rating'] != 0]  # удаляем отзывы с рейтингом 0\n",
    "recipes_with_reviews = recipes_with_reviews.dropna(subset=['review'])  # dropna удаляем отзывы с отсутствующим описанием\n",
    "\n",
    "print(average_rating_per_recipe)"
   ]
  },
  {
   "cell_type": "markdown",
   "metadata": {},
   "source": [
    "4.3 Посчитайте количество рецептов с разбивкой по годам создания."
   ]
  },
  {
   "cell_type": "code",
   "execution_count": 51,
   "metadata": {},
   "outputs": [
    {
     "name": "stdout",
     "output_type": "stream",
     "text": [
      "1999     275\n",
      "2000     104\n",
      "2001     589\n",
      "2002    2644\n",
      "2003    2334\n",
      "2004    2153\n",
      "2005    3130\n",
      "2006    3473\n",
      "2007    4429\n",
      "2008    4029\n",
      "2009    2963\n",
      "2010    1538\n",
      "2011     922\n",
      "2012     659\n",
      "2013     490\n",
      "2014     139\n",
      "2015      42\n",
      "2016      24\n",
      "2017      39\n",
      "2018      24\n",
      "Name: submitted, dtype: int64\n"
     ]
    }
   ],
   "source": [
    "# dt.year-извлечение по годам. value_counts()-подсчет кол-а для каждого года. sort_index()-сортировка\n",
    "recipe_count_year = recipes['submitted'].dt.year.value_counts().sort_index()\n",
    "\n",
    "print(recipe_count_year)"
   ]
  },
  {
   "cell_type": "markdown",
   "metadata": {},
   "source": [
    "### Объединение таблиц `pd.DataFrame`"
   ]
  },
  {
   "cell_type": "markdown",
   "metadata": {},
   "source": [
    "5.1 При помощи объединения таблиц, создайте `DataFrame`, состоящий из четырех столбцов: `id`, `name`, `user_id`, `rating`. Рецепты, на которые не оставлен ни один отзыв, должны отсутствовать в полученной таблице. Подтвердите правильность работы вашего кода, выбрав рецепт, не имеющий отзывов, и попытавшись найти строку, соответствующую этому рецепту, в полученном `DataFrame`."
   ]
  },
  {
   "cell_type": "code",
   "execution_count": 53,
   "metadata": {},
   "outputs": [
    {
     "name": "stdout",
     "output_type": "stream",
     "text": [
      "      id                                   name  user_id  rating\n",
      "0  44123  george s at the cove  black bean soup   743566       5\n",
      "1  44123  george s at the cove  black bean soup    76503       5\n",
      "2  44123  george s at the cove  black bean soup    34206       5\n",
      "3  67664     healthy for them  yogurt popsicles   494084       5\n",
      "4  67664     healthy for them  yogurt popsicles   303445       5\n"
     ]
    }
   ],
   "source": [
    "import pandas as pd\n",
    "\n",
    "recipes = pd.read_csv(\"recipes_sample.csv\")\n",
    "reviews = pd.read_csv(\"reviews_sample.csv\")\n",
    "\n",
    "# merge-объединение таблиц по столбцу recipe_id left and right-ключи (столбцы)\n",
    "merged_df = pd.merge(recipes, reviews, left_on='id', right_on='recipe_id')\n",
    "\n",
    "# выборка(индексикация по столбцам)\n",
    "result_df = merged_df[['id', 'name', 'user_id', 'rating']]\n",
    "\n",
    "print(result_df.head())"
   ]
  },
  {
   "cell_type": "markdown",
   "metadata": {},
   "source": [
    "5.2 При помощи объединения таблиц и группировок, создайте `DataFrame`, состоящий из трех столбцов: `recipe_id`, `name`, `review_count`, где столбец `review_count` содержит кол-во отзывов, оставленных на рецепт `recipe_id`. У рецептов, на которые не оставлен ни один отзыв, в столбце `review_count` должен быть указан 0. Подтвердите правильность работы вашего кода, выбрав рецепт, не имеющий отзывов, и найдя строку, соответствующую этому рецепту, в полученном `DataFrame`."
   ]
  },
  {
   "cell_type": "code",
   "execution_count": 54,
   "metadata": {},
   "outputs": [
    {
     "name": "stdout",
     "output_type": "stream",
     "text": [
      "   recipe_id                                        name  review_count\n",
      "0       48.0                            boston cream pie             2\n",
      "1       55.0  betty crocker s southwestern guacamole dip             4\n",
      "2       66.0                 black coffee barbecue sauce            18\n",
      "3       91.0              brown rice and vegetable pilaf             4\n",
      "4       94.0                       blueberry buttertarts             4\n"
     ]
    }
   ],
   "source": [
    "import pandas as pd\n",
    "\n",
    "recipes = pd.read_csv(\"recipes_sample.csv\")\n",
    "reviews = pd.read_csv(\"reviews_sample.csv\")\n",
    "\n",
    "# merge-объединение таблиц + ключи объединения. how- сохранение из источника\n",
    "merged_df = pd.merge(recipes, reviews, left_on='id', right_on='recipe_id', how='left')\n",
    "\n",
    "# группировка и подсчёт (groupby, size)\n",
    "review_count_df = merged_df.groupby(['recipe_id', 'name']).size().reset_index(name='review_count')\n",
    "\n",
    "# fillna(0)- заполнение нулями\n",
    "review_count_df['review_count'] = review_count_df['review_count'].fillna(0).astype(int)\n",
    "\n",
    "print(review_count_df.head())"
   ]
  },
  {
   "cell_type": "markdown",
   "metadata": {},
   "source": [
    "5.3. Выясните, рецепты, добавленные в каком году, имеют наименьший средний рейтинг?"
   ]
  },
  {
   "cell_type": "code",
   "execution_count": 56,
   "metadata": {},
   "outputs": [
    {
     "name": "stdout",
     "output_type": "stream",
     "text": [
      "2017\n"
     ]
    }
   ],
   "source": [
    "import pandas as pd\n",
    "\n",
    "recipes = pd.read_csv(\"recipes_sample.csv\", parse_dates=['submitted'])\n",
    "reviews = pd.read_csv(\"reviews_sample.csv\")\n",
    "\n",
    "# объединение таблиц + ключи\n",
    "merged_df = pd.merge(recipes, reviews, left_on='id', right_on='recipe_id')\n",
    "\n",
    "# извлечение года\n",
    "merged_df['year'] = merged_df['submitted'].dt.year\n",
    "\n",
    "# groupby- группировка и mean- вычисление среднего рейтинга \n",
    "average_rating_year = merged_df.groupby('year')['rating'].mean()\n",
    "\n",
    "# idxmin- определение наименьшего среднего рейтинга\n",
    "year_min_rating = average_rating_year.idxmin()\n",
    "\n",
    "print(year_min_rating)"
   ]
  },
  {
   "cell_type": "markdown",
   "metadata": {},
   "source": [
    "### Сохранение таблиц `pd.DataFrame`"
   ]
  },
  {
   "cell_type": "markdown",
   "metadata": {},
   "source": [
    "6.1 Отсортируйте таблицу в порядке убывания величины столбца `name_word_count` и сохраните результаты выполнения заданий 3.1-3.3 в csv файл. "
   ]
  },
  {
   "cell_type": "code",
   "execution_count": 57,
   "metadata": {},
   "outputs": [
    {
     "name": "stdout",
     "output_type": "stream",
     "text": [
      "                                       name     id  minutes  contributor_id  \\\n",
      "0     george s at the cove  black bean soup  44123       90           35193   \n",
      "1        healthy for them  yogurt popsicles  67664       10           91970   \n",
      "2              i can t believe it s spinach  38798       30            1533   \n",
      "3                      italian  gut busters  35173       45           22724   \n",
      "4  love is in the air  beef fondue   sauces  84797       25            4470   \n",
      "\n",
      "   submitted  n_steps                                        description  \\\n",
      "0 2002-10-25      NaN  an original recipe created by chef scott meska...   \n",
      "1 2003-07-26      NaN  my children and their friends ask for my homem...   \n",
      "2 2002-08-29      NaN            these were so go, it surprised even me.   \n",
      "3 2002-07-27      NaN  my sister-in-law made these for us at a family...   \n",
      "4 2004-02-23      4.0  i think a fondue is a very romantic casual din...   \n",
      "\n",
      "   n_ingredients  description_length  \n",
      "0           18.0                 330  \n",
      "1            NaN                 255  \n",
      "2            8.0                  39  \n",
      "3            NaN                 154  \n",
      "4            NaN                 587  \n",
      "                                       name     id  minutes  contributor_id  \\\n",
      "0     george s at the cove  black bean soup  44123       90           35193   \n",
      "1        healthy for them  yogurt popsicles  67664       10           91970   \n",
      "2              i can t believe it s spinach  38798       30            1533   \n",
      "3                      italian  gut busters  35173       45           22724   \n",
      "4  love is in the air  beef fondue   sauces  84797       25            4470   \n",
      "\n",
      "   submitted  n_steps                                        description  \\\n",
      "0 2002-10-25      NaN  an original recipe created by chef scott meska...   \n",
      "1 2003-07-26      NaN  my children and their friends ask for my homem...   \n",
      "2 2002-08-29      NaN            these were so go, it surprised even me.   \n",
      "3 2002-07-27      NaN  my sister-in-law made these for us at a family...   \n",
      "4 2004-02-23      4.0  i think a fondue is a very romantic casual din...   \n",
      "\n",
      "   n_ingredients  description_length  name_word_count  \n",
      "0           18.0                 330                8  \n",
      "1            NaN                 255                5  \n",
      "2            8.0                  39                7  \n",
      "3            NaN                 154                3  \n",
      "4            NaN                 587                8  \n"
     ]
    }
   ],
   "source": [
    "import pandas as pd\n",
    "\n",
    "recipes = pd.read_csv(\"recipes_sample.csv\", parse_dates=['submitted'])\n",
    "\n",
    "# +столбец description_length (длина описания) + преобразование в str(если надо). apply- для применения функции к каждой ячейке\n",
    "recipes['description_length'] = recipes['description'].apply(lambda x: len(str(x)))\n",
    "\n",
    "# сохранение в CSV\n",
    "recipes.to_csv(\"recipes_with_description_length.csv\", index=False)\n",
    "\n",
    "print(recipes.head())\n",
    "\n",
    "# +name_word_count. split- разделение строки на слова(список)\n",
    "recipes['name_word_count'] = recipes['name'].str.split(). (lambda x: len(x))\n",
    "\n",
    "# Сохранение в CSV\n",
    "recipes.to_csv(\"recipes_with_name_word_count.csv\", index=False)\n",
    "\n",
    "print(recipes.head())"
   ]
  },
  {
   "cell_type": "markdown",
   "metadata": {},
   "source": [
    "6.2 Воспользовавшись `pd.ExcelWriter`, cохраните результаты 5.1 и 5.2 в файл: на лист с названием `Рецепты с оценками` сохраните результаты выполнения 5.1; на лист с названием `Количество отзывов по рецептам` сохраните результаты выполнения 5.2."
   ]
  },
  {
   "cell_type": "code",
   "execution_count": 67,
   "metadata": {},
   "outputs": [],
   "source": [
    "import pandas as pd\n",
    "\n",
    "recipes = pd.read_csv(\"recipes_sample.csv\")\n",
    "reviews = pd.read_csv(\"reviews_sample.csv\")\n",
    "\n",
    "# задание 5.1\n",
    "# merge-объединение таблиц по recipe_id\n",
    "merged_5_1 = pd.merge(recipes, reviews, left_on='id', right_on='recipe_id')\n",
    "\n",
    "# выборка(индексикация по столбцам)\n",
    "result_5_1 = merged_5_1[['id', 'name', 'user_id', 'rating']]\n",
    "\n",
    "# сохранение результатов 5.1 в Excel\n",
    "with pd.ExcelWriter('results.xlsx') as writer:\n",
    "    result_5_1.to_excel(writer, s_name='рецепты с оценками', index=False)\n",
    "\n",
    "# задание 5.2\n",
    "# merge-объединение таблиц + ключи объединения. how- сохранение из источника\n",
    "merged_5_2 = pd.merge(recipes, reviews, left_on='id', right_on='recipe_id', how='left')\n",
    "\n",
    "# группировка и подсчёт (groupby, size)\n",
    "review_count = merged_5_2.groupby(['recipe_id', 'name']).size().reset_index(name='review_count')\n",
    "\n",
    "# fillna(0)- заполнение нулями\n",
    "review_count['review_count'] = review_count['review_count'].fillna(0).astype(int)\n",
    "\n",
    "# сохранение результатов 5.2 в файл Excel\n",
    "with pd.ExcelWriter('results.xlsx', mode='a') as writer:  # mode='a' добавления к существующему файлу\n",
    "    review_count.to_excel(writer, s_name='кол-во отзывов', index=False)\n"
   ]
  },
  {
   "cell_type": "code",
   "execution_count": 66,
   "metadata": {},
   "outputs": [
    {
     "data": {
      "text/plain": [
       "False"
      ]
     },
     "execution_count": 66,
     "metadata": {},
     "output_type": "execute_result"
    }
   ],
   "source": []
  },
  {
   "cell_type": "markdown",
   "metadata": {},
   "source": [
    "#### [версия 2]\n",
    "* Уточнены формулировки задач 1.1, 3.3, 4.2, 5.1, 5.2, 5.3"
   ]
  },
  {
   "cell_type": "code",
   "execution_count": null,
   "metadata": {},
   "outputs": [],
   "source": []
  }
 ],
 "metadata": {
  "kernelspec": {
   "display_name": "Python 3 (ipykernel)",
   "language": "python",
   "name": "python3"
  },
  "language_info": {
   "codemirror_mode": {
    "name": "ipython",
    "version": 3
   },
   "file_extension": ".py",
   "mimetype": "text/x-python",
   "name": "python",
   "nbconvert_exporter": "python",
   "pygments_lexer": "ipython3",
   "version": "3.11.4"
  }
 },
 "nbformat": 4,
 "nbformat_minor": 4
}
