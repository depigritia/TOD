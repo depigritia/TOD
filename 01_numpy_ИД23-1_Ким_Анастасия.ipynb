{
 "cells": [
  {
   "cell_type": "markdown",
   "metadata": {},
   "source": [
    "# Numpy"
   ]
  },
  {
   "cell_type": "markdown",
   "metadata": {},
   "source": [
    "Материалы:\n",
    "* Макрушин С.В. \"Лекция 1: Библиотека Numpy\"\n",
    "* https://numpy.org/doc/stable/user/index.html\n",
    "* https://numpy.org/doc/stable/reference/index.html"
   ]
  },
  {
   "cell_type": "markdown",
   "metadata": {},
   "source": [
    "## Задачи для совместного разбора"
   ]
  },
  {
   "cell_type": "markdown",
   "metadata": {},
   "source": [
    "1. Сгенерировать двухмерный массив `arr` размерности (4, 7), состоящий из случайных действительных чисел, равномерно распределенных в диапазоне от 0 до 20. Нормализовать значения массива с помощью преобразования вида  $𝑎𝑥+𝑏$  так, что после нормализации максимальный элемент масcива будет равен 1.0, минимальный 0.0"
   ]
  },
  {
   "cell_type": "code",
   "execution_count": 48,
   "metadata": {},
   "outputs": [
    {
     "name": "stdout",
     "output_type": "stream",
     "text": [
      "Исходный:\n",
      "[[ 7.82114373  3.31492048 19.78607562  3.98925179  5.85213825  6.75168143\n",
      "   6.84600316]\n",
      " [ 1.57898754 15.81617358  7.04618531  1.78994132 14.30388368 12.75040561\n",
      "  19.78050216]\n",
      " [14.70329605  2.14105613 17.75248094 16.55506773 11.75386675 18.93285758\n",
      "  18.19769278]\n",
      " [14.40538457  9.05109173 19.24796105 10.85793362  4.53447404 19.3232198\n",
      "   1.0139266 ]]\n",
      "Нормализованный:\n",
      "[[0.36262322 0.12257488 1.         0.15849678 0.2577335  0.30565253\n",
      "  0.31067709]\n",
      " [0.03010103 0.78852171 0.32134087 0.04133862 0.70796141 0.625207\n",
      "  0.9997031 ]\n",
      " [0.72923827 0.06004265 0.89166959 0.8278829  0.57212097 0.95454873\n",
      "  0.9153862 ]\n",
      " [0.7133684  0.42814305 0.97133442 0.52439425 0.18754099 0.97534348\n",
      "  0.        ]]\n"
     ]
    }
   ],
   "source": [
    "import numpy as np\n",
    "\n",
    "arr = np.random.uniform(0, 20, size=(4, 7))\n",
    "\n",
    "# минимальное и максимальное значение\n",
    "min_val = np.min(arr)\n",
    "max_val = np.max(arr)\n",
    "\n",
    "# параметры нормализации\n",
    "a = 1 / (max_val - min_val)\n",
    "b = -a * min_val\n",
    "\n",
    "# нормализация\n",
    "normalized_arr = a * arr + b\n",
    "\n",
    "print(\"Исходный:\")\n",
    "print(arr)\n",
    "print(\"Нормализованный:\")\n",
    "print(normalized_arr)"
   ]
  },
  {
   "cell_type": "markdown",
   "metadata": {},
   "source": [
    "2. Создать матрицу 8 на 10 из случайных целых (используя модуль `numpy.random`) чисел из диапозона от 0 до 10 и найти в ней строку (ее индекс и вывести саму строку), в которой сумма значений минимальна."
   ]
  },
  {
   "cell_type": "code",
   "execution_count": 49,
   "metadata": {},
   "outputs": [
    {
     "name": "stdout",
     "output_type": "stream",
     "text": [
      "Строка с min суммой значений (индекс 0):\n",
      "[ 6 10  2  4  7  8  9  2  3  6]\n"
     ]
    }
   ],
   "source": [
    "import numpy as np\n",
    "\n",
    "matrix = np.random.randint(0, 11, size=(8, 10))\n",
    "\n",
    "# суммы значений по каждой строке\n",
    "r_sums = np.sum(matrix, axis=1)\n",
    "\n",
    "# минимальная сумма\n",
    "min_sum_row_index = np.argmin(row_sums)\n",
    "\n",
    "print(f\"Строка с min суммой значений (индекс {min_sum_row_index}):\")\n",
    "print(matrix[min_sum_row_index])"
   ]
  },
  {
   "cell_type": "markdown",
   "metadata": {},
   "source": [
    "3. Найти евклидово расстояние между двумя одномерными векторами одинаковой размерности."
   ]
  },
  {
   "cell_type": "code",
   "execution_count": 50,
   "metadata": {},
   "outputs": [
    {
     "name": "stdout",
     "output_type": "stream",
     "text": [
      "5.196152422706632\n"
     ]
    }
   ],
   "source": [
    "import numpy as np\n",
    "\n",
    "def euclidean_distance(q, w):\n",
    "    if len(q) != len(w):\n",
    "        raise ValueError(\"Векторы должны иметь одинаковую размерность\")\n",
    "    \n",
    "    # квадрат разности каждой пары элементов и их сумма\n",
    "    squared_diff = np.sum((q - w) ** 2)\n",
    "    \n",
    "    # квадратный корень\n",
    "    distance = np.sqrt(squared_diff)\n",
    "    return distance\n",
    "\n",
    "q = np.array([1, 2, 3])\n",
    "w = np.array([4, 5, 6])\n",
    "distance = euclidean_distance(q, w)\n",
    "print(distance)\n"
   ]
  },
  {
   "cell_type": "markdown",
   "metadata": {},
   "source": [
    "4. Решить матричное уравнение `A*X*B=-C` - найти матрицу `X`. Где `A = [[-1, 2, 4], [-3, 1, 2], [-3, 0, 1]]`, `B=[[3, -1], [2, 1]]`, `C=[[7, 21], [11, 8], [8, 4]]`."
   ]
  },
  {
   "cell_type": "code",
   "execution_count": 51,
   "metadata": {},
   "outputs": [
    {
     "name": "stdout",
     "output_type": "stream",
     "text": [
      "[[ 1.00000000e+00  1.11022302e-15]\n",
      " [-2.00000000e+00  1.00000000e+00]\n",
      " [ 3.00000000e+00 -4.00000000e+00]]\n"
     ]
    }
   ],
   "source": [
    "import numpy as np\n",
    "\n",
    "A = np.array([[-1, 2, 4], [-3, 1, 2], [-3, 0, 1]])\n",
    "B = np.array([[3, -1], [2, 1]])\n",
    "C = np.array([[7, 21], [11, 8], [8, 4]])\n",
    "\n",
    "# обратные матрицы\n",
    "A_inv = np.linalg.inv(A)\n",
    "B_inv = np.linalg.inv(B)\n",
    "\n",
    "# находим х\n",
    "X = -np.dot(np.dot(A_inv, C), B_inv)\n",
    "\n",
    "print(X)"
   ]
  },
  {
   "cell_type": "markdown",
   "metadata": {},
   "source": [
    "## Лабораторная работа №1"
   ]
  },
  {
   "cell_type": "markdown",
   "metadata": {},
   "source": [
    "Замечание: при решении данных задач не подразумевается использования циклов или генераторов Python, если в задании не сказано обратного. Решение должно опираться на использования функционала библиотеки `numpy`."
   ]
  },
  {
   "cell_type": "markdown",
   "metadata": {},
   "source": [
    "1. Файл `minutes_n_ingredients.csv` содержит информацию об идентификаторе рецепта, времени его выполнения в минутах и количестве необходимых ингредиентов. Считайте данные из этого файла в виде массива `numpy` типа `int32`, используя `np.loadtxt`. Выведите на экран первые 5 строк массива."
   ]
  },
  {
   "cell_type": "code",
   "execution_count": 27,
   "metadata": {},
   "outputs": [
    {
     "name": "stdout",
     "output_type": "stream",
     "text": [
      "[[127244     60     16]\n",
      " [ 23891     25      7]\n",
      " [ 94746     10      6]\n",
      " [ 67660      5      6]\n",
      " [157911     60     14]]\n"
     ]
    }
   ],
   "source": [
    "import numpy as np\n",
    "\n",
    "# данные из файла\n",
    "data = np.loadtxt(\"minutes_n_ingredients.csv\", delimiter=',', skiprows=1, dtype=np.int32)\n",
    "\n",
    "print(data[:5])"
   ]
  },
  {
   "cell_type": "markdown",
   "metadata": {},
   "source": [
    "2. Вычислите среднее значение, минимум, максимум и медиану по каждому из столбцов, кроме первого."
   ]
  },
  {
   "cell_type": "code",
   "execution_count": 32,
   "metadata": {},
   "outputs": [
    {
     "name": "stdout",
     "output_type": "stream",
     "text": [
      "Среднее: [32.   9.8]\n",
      "Минимум: [5 6]\n",
      "Максимум: [60 16]\n",
      "Медиана: [25.  7.]\n"
     ]
    }
   ],
   "source": [
    "import numpy as np\n",
    "\n",
    "data = np.array([[127244, 60, 16],\n",
    "                 [23891, 25, 7],\n",
    "                 [94746, 10, 6],\n",
    "                 [67660, 5, 6],\n",
    "                 [157911, 60, 14]])\n",
    "\n",
    "# срез для исключения 1-го столбца\n",
    "data_without_first_column = data[:, 1:]\n",
    "\n",
    "mean_val = np.mean(data_without_first_column, axis=0)\n",
    "min_val = np.min(data_without_first_column, axis=0)\n",
    "max_val = np.max(data_without_first_column, axis=0)\n",
    "median_val = np.median(data_without_first_column, axis=0)\n",
    "\n",
    "print(\"Среднее:\", mean_val)\n",
    "print(\"Минимум:\", min_val)\n",
    "print(\"Максимум:\", max_val)\n",
    "print(\"Медиана:\", median_val)"
   ]
  },
  {
   "cell_type": "markdown",
   "metadata": {},
   "source": [
    "3. Ограничьте сверху значения продолжительности выполнения рецепта значением квантиля $q_{0.75}$. "
   ]
  },
  {
   "cell_type": "code",
   "execution_count": 1,
   "metadata": {},
   "outputs": [
    {
     "name": "stdout",
     "output_type": "stream",
     "text": [
      "       id  minutes  n_ingredients\n",
      "0  127244       60             16\n",
      "1   23891       25              7\n",
      "2   94746       10              6\n",
      "3   67660        5              6\n",
      "4  157911       60             14\n"
     ]
    }
   ],
   "source": [
    "import pandas as pd\n",
    "\n",
    "df = pd.read_csv('minutes_n_ingredients.csv')\n",
    "\n",
    "quantile_75 = df['minutes'].quantile(0.75)\n",
    "\n",
    "# Ограничение спомощью clip()\n",
    "df['minutes'] = df['minutes'].clip(upper=quantile_75)\n",
    "\n",
    "print(df.head())"
   ]
  },
  {
   "cell_type": "markdown",
   "metadata": {},
   "source": [
    "4. Посчитайте, для скольких рецептов указана продолжительность, равная нулю. Замените для таких строк значение в данном столбце на 1."
   ]
  },
  {
   "cell_type": "code",
   "execution_count": 34,
   "metadata": {},
   "outputs": [
    {
     "name": "stdout",
     "output_type": "stream",
     "text": [
      "479\n"
     ]
    }
   ],
   "source": [
    "import numpy as np\n",
    "\n",
    "data = np.genfromtxt('minutes_n_ingredients.csv', delimiter=',', skip_header=1)\n",
    "\n",
    "# индекс продолжительности\n",
    "duration_index = 1\n",
    "\n",
    "# кол-вл по продолжительности = 0\n",
    "zero_duration_count = np.sum(data[:, duration_index] == 0)\n",
    "\n",
    "print(zero_duration_count)\n",
    "\n",
    "# замена на 1\n",
    "data[data[:, duration_index] == 0, duration_index] = 1\n",
    "\n",
    "# сохранение новых данных\n",
    "# np.savetxt('updated_minutes_n_ingredients.csv', data, delimiter=',', fmt='%d')"
   ]
  },
  {
   "cell_type": "markdown",
   "metadata": {},
   "source": [
    "5. Посчитайте, сколько уникальных рецептов находится в датасете."
   ]
  },
  {
   "cell_type": "code",
   "execution_count": 35,
   "metadata": {},
   "outputs": [
    {
     "name": "stdout",
     "output_type": "stream",
     "text": [
      "100000\n"
     ]
    }
   ],
   "source": [
    "import numpy as np\n",
    "\n",
    "data = np.genfromtxt('minutes_n_ingredients.csv', delimiter=',', skip_header=1)\n",
    "\n",
    "recipe_id_index = 0\n",
    "\n",
    "# получение идентификаторов\n",
    "unique_recipe_ids = np.unique(data[:, recipe_id_index])\n",
    "\n",
    "num_unique_recipes = len(unique_recipe_ids)\n",
    "\n",
    "print(num_unique_recipes)"
   ]
  },
  {
   "cell_type": "markdown",
   "metadata": {},
   "source": [
    "6. Сколько и каких различных значений кол-ва ингредиентов присутвует в рецептах из датасета?"
   ]
  },
  {
   "cell_type": "code",
   "execution_count": 36,
   "metadata": {},
   "outputs": [
    {
     "name": "stdout",
     "output_type": "stream",
     "text": [
      "Различные значения количества ингредиентов и их количество:\n",
      "Ингредиенты: 1, рецепты: 13\n",
      "Ингредиенты: 2, рецепты: 926\n",
      "Ингредиенты: 3, рецепты: 2895\n",
      "Ингредиенты: 4, рецепты: 5515\n",
      "Ингредиенты: 5, рецепты: 7913\n",
      "Ингредиенты: 6, рецепты: 9376\n",
      "Ингредиенты: 7, рецепты: 10628\n",
      "Ингредиенты: 8, рецепты: 10951\n",
      "Ингредиенты: 9, рецепты: 10585\n",
      "Ингредиенты: 10, рецепты: 9591\n",
      "Ингредиенты: 11, рецепты: 8297\n",
      "Ингредиенты: 12, рецепты: 6605\n",
      "Ингредиенты: 13, рецепты: 4997\n",
      "Ингредиенты: 14, рецепты: 3663\n",
      "Ингредиенты: 15, рецепты: 2595\n",
      "Ингредиенты: 16, рецепты: 1767\n",
      "Ингредиенты: 17, рецепты: 1246\n",
      "Ингредиенты: 18, рецепты: 790\n",
      "Ингредиенты: 19, рецепты: 573\n",
      "Ингредиенты: 20, рецепты: 376\n",
      "Ингредиенты: 21, рецепты: 217\n",
      "Ингредиенты: 22, рецепты: 161\n",
      "Ингредиенты: 23, рецепты: 105\n",
      "Ингредиенты: 24, рецепты: 69\n",
      "Ингредиенты: 25, рецепты: 50\n",
      "Ингредиенты: 26, рецепты: 28\n",
      "Ингредиенты: 27, рецепты: 16\n",
      "Ингредиенты: 28, рецепты: 16\n",
      "Ингредиенты: 29, рецепты: 12\n",
      "Ингредиенты: 30, рецепты: 12\n",
      "Ингредиенты: 31, рецепты: 3\n",
      "Ингредиенты: 32, рецепты: 1\n",
      "Ингредиенты: 33, рецепты: 2\n",
      "Ингредиенты: 34, рецепты: 1\n",
      "Ингредиенты: 35, рецепты: 3\n",
      "Ингредиенты: 37, рецепты: 1\n",
      "Ингредиенты: 39, рецепты: 1\n"
     ]
    }
   ],
   "source": [
    "import numpy as np\n",
    "\n",
    "data = np.genfromtxt('minutes_n_ingredients.csv', delimiter=',', skip_header=1)\n",
    "\n",
    "# кол-во ингредиентов\n",
    "ingredients_count_index = 2\n",
    "\n",
    "# уникальные значения\n",
    "unique_ingredients_counts = np.unique(data[:, ingredients_count_index])\n",
    "\n",
    "num_unique_ingredients_counts = len(unique_ingredients_counts)\n",
    "\n",
    "print(\"Различные значения количества ингредиентов и их количество:\")\n",
    "for count in unique_ingredients_counts:\n",
    "    count_occurrences = np.sum(data[:, ingredients_count_index] == count)\n",
    "    print(f\"Ингредиенты: {int(count)}, рецепты: {count_occurrences}\")\n"
   ]
  },
  {
   "cell_type": "markdown",
   "metadata": {},
   "source": [
    "7. Создайте версию массива, содержащую информацию только о рецептах, состоящих не более чем из 5 ингредиентов."
   ]
  },
  {
   "cell_type": "code",
   "execution_count": 37,
   "metadata": {},
   "outputs": [
    {
     "name": "stdout",
     "output_type": "stream",
     "text": [
      "[[4.46597e+05 1.50000e+01 5.00000e+00]\n",
      " [2.04134e+05 5.00000e+00 3.00000e+00]\n",
      " [2.56230e+04 6.00000e+00 4.00000e+00]\n",
      " ...\n",
      " [5.20880e+04 6.00000e+01 5.00000e+00]\n",
      " [1.28811e+05 1.50000e+01 4.00000e+00]\n",
      " [3.70915e+05 5.00000e+00 4.00000e+00]]\n"
     ]
    }
   ],
   "source": [
    "import numpy as np\n",
    "\n",
    "data = np.genfromtxt('minutes_n_ingredients.csv', delimiter=',', skip_header=1)\n",
    "\n",
    "ingredients_count_index = 2\n",
    "\n",
    "# отборка\n",
    "filtered_data = data[data[:, ingredients_count_index] <= 5]\n",
    "\n",
    "print(filtered_data)"
   ]
  },
  {
   "cell_type": "markdown",
   "metadata": {},
   "source": [
    "8. Для каждого рецепта посчитайте, сколько в среднем ингредиентов приходится на одну минуту рецепта. Найдите максимальное значение этой величины для всего датасета"
   ]
  },
  {
   "cell_type": "code",
   "execution_count": 40,
   "metadata": {},
   "outputs": [
    {
     "name": "stdout",
     "output_type": "stream",
     "text": [
      "23.0\n"
     ]
    }
   ],
   "source": [
    "import numpy as np\n",
    "\n",
    "data = np.genfromtxt('minutes_n_ingredients.csv', delimiter=',', skip_header=1)\n",
    "\n",
    "ingredients_count_index = 2\n",
    "minutes_index = 1\n",
    "\n",
    "# проверка продолжительности\n",
    "nonzero_duration = data[:, minutes_index] > 0\n",
    "\n",
    "# среднне кол-во ингредиентов на минуту\n",
    "ingredients_on_minute = np.zeros_like(data[:, minutes_index], dtype=float)\n",
    "ingredients_on_minute[nonzero_duration_mask] = data[nonzero_duration, ingredients_count_index] / data[nonzero_duration, minutes_index]\n",
    "\n",
    "max_ingredients_on_minute = np.max(ingredients_on_minute)\n",
    "\n",
    "print(max_ingredients_on_minute)"
   ]
  },
  {
   "cell_type": "markdown",
   "metadata": {},
   "source": [
    "9. Вычислите среднее количество ингредиентов для топ-100 рецептов с наибольшей продолжительностью"
   ]
  },
  {
   "cell_type": "code",
   "execution_count": 42,
   "metadata": {},
   "outputs": [
    {
     "name": "stdout",
     "output_type": "stream",
     "text": [
      "6.61\n"
     ]
    }
   ],
   "source": [
    "import numpy as np\n",
    "\n",
    "data = np.genfromtxt('minutes_n_ingredients.csv', delimiter=',', skip_header=1)\n",
    "\n",
    "ingredients_count_index = 2\n",
    "minutes_index = 1\n",
    "\n",
    "# сортировка по убыванию\n",
    "sorted_data = data[data[:, minutes_index].argsort()[::-1]]\n",
    "\n",
    "top_100_data = sorted_data[:100]\n",
    "\n",
    "# среднее кол-во ингредиентов \n",
    "mean_ingredients_top_100 = np.mean(top_100_data[:, ingredients_count_index])\n",
    "\n",
    "print(mean_ingredients_top_100)"
   ]
  },
  {
   "cell_type": "markdown",
   "metadata": {},
   "source": [
    "10. Выберите случайным образом и выведите информацию о 10 различных рецептах"
   ]
  },
  {
   "cell_type": "code",
   "execution_count": 43,
   "metadata": {},
   "outputs": [
    {
     "name": "stdout",
     "output_type": "stream",
     "text": [
      "393806\n",
      "Продолжительность: 75 минут\n",
      "Кол-во ингредиентов: 7\n",
      "\n",
      "482344\n",
      "Продолжительность: 20 минут\n",
      "Кол-во ингредиентов: 7\n",
      "\n",
      "441493\n",
      "Продолжительность: 250 минут\n",
      "Кол-во ингредиентов: 10\n",
      "\n",
      "53605\n",
      "Продолжительность: 30 минут\n",
      "Кол-во ингредиентов: 6\n",
      "\n",
      "112610\n",
      "Продолжительность: 60 минут\n",
      "Кол-во ингредиентов: 8\n",
      "\n",
      "290897\n",
      "Продолжительность: 10 минут\n",
      "Кол-во ингредиентов: 3\n",
      "\n",
      "403420\n",
      "Продолжительность: 35 минут\n",
      "Кол-во ингредиентов: 12\n",
      "\n",
      "294295\n",
      "Продолжительность: 120 минут\n",
      "Кол-во ингредиентов: 10\n",
      "\n",
      "140000\n",
      "Продолжительность: 10 минут\n",
      "Кол-во ингредиентов: 12\n",
      "\n",
      "16724\n",
      "Продолжительность: 70 минут\n",
      "Кол-во ингредиентов: 5\n",
      "\n"
     ]
    }
   ],
   "source": [
    "import numpy as np\n",
    "\n",
    "data = np.genfromtxt('minutes_n_ingredients.csv', delimiter=',', dtype=None, names=True, encoding='utf-8')\n",
    "\n",
    "# выборкпа\n",
    "random_indices = np.random.choice(len(data), size=10, replace=False)\n",
    "\n",
    "for idx in random_indices:\n",
    "    print(data['id'][idx])\n",
    "    print(\"Продолжительность:\", data['minutes'][idx], \"минут\")\n",
    "    print(\"Кол-во ингредиентов:\", data['n_ingredients'][idx])\n",
    "    print()\n"
   ]
  },
  {
   "cell_type": "markdown",
   "metadata": {},
   "source": [
    "11. Выведите процент рецептов, кол-во ингредиентов в которых меньше среднего."
   ]
  },
  {
   "cell_type": "code",
   "execution_count": 44,
   "metadata": {},
   "outputs": [
    {
     "name": "stdout",
     "output_type": "stream",
     "text": [
      "58.802 %\n"
     ]
    }
   ],
   "source": [
    "import numpy as np\n",
    "\n",
    "data = np.genfromtxt('minutes_n_ingredients.csv', delimiter=',', skip_header=1)\n",
    "\n",
    "ingredients_count_index = 2\n",
    "\n",
    "# среднее кол-во ингредиентов\n",
    "mean_ingredients_count = np.mean(data[:, ingredients_count_index])\n",
    "\n",
    "# кол-во рецептов где кол-во ингредиентов меньше среднего\n",
    "less_than_mean_count = np.sum(data[:, ingredients_count_index] < mean_ingredients_count)\n",
    "\n",
    "total_recipes_count = len(data)\n",
    "\n",
    "# процент рецептов где кол-во ингредиентов меньше среднего\n",
    "percentage_less_mean = (less_than_mean_count / total_recipes_count) * 100\n",
    "\n",
    "print(percentage_less_mean, \"%\")"
   ]
  },
  {
   "cell_type": "markdown",
   "metadata": {},
   "source": [
    "12. Назовем \"простым\" такой рецепт, длительность выполнения которого не больше 20 минут и кол-во ингредиентов в котором не больше 5. Создайте версию датасета с дополнительным столбцом, значениями которого являются 1, если рецепт простой, и 0 в противном случае."
   ]
  },
  {
   "cell_type": "code",
   "execution_count": 1,
   "metadata": {},
   "outputs": [
    {
     "name": "stdout",
     "output_type": "stream",
     "text": [
      "[[1.27244e+05 6.00000e+01 1.60000e+01 0.00000e+00]\n",
      " [2.38910e+04 2.50000e+01 7.00000e+00 0.00000e+00]\n",
      " [9.47460e+04 1.00000e+01 6.00000e+00 0.00000e+00]\n",
      " [6.76600e+04 5.00000e+00 6.00000e+00 0.00000e+00]\n",
      " [1.57911e+05 6.00000e+01 1.40000e+01 0.00000e+00]]\n"
     ]
    }
   ],
   "source": [
    "import numpy as np\n",
    "\n",
    "data = np.genfromtxt('minutes_n_ingredients.csv', delimiter=',', skip_header=1)\n",
    "\n",
    "minutes_index = 1\n",
    "ingredients_count_index = 2\n",
    "\n",
    "# условие простого\n",
    "simple_recipe_condition = (data[:, minutes_index] <= 20) & (data[:, ingredients_count_index] <= 5)\n",
    "\n",
    "# новый столбец\n",
    "simple_recipe_column = np.where(simple_recipe_condition, 1, 0)\n",
    "\n",
    "# добавление к исходникам\n",
    "data_simple_column = np.column_stack((data, simple_recipe_column))\n",
    "\n",
    "print(data_simple_column[:5])"
   ]
  },
  {
   "cell_type": "markdown",
   "metadata": {},
   "source": [
    "13. Выведите процент \"простых\" рецептов в датасете"
   ]
  },
  {
   "cell_type": "code",
   "execution_count": 2,
   "metadata": {},
   "outputs": [
    {
     "name": "stdout",
     "output_type": "stream",
     "text": [
      "9.552 %\n"
     ]
    }
   ],
   "source": [
    "import numpy as np\n",
    "\n",
    "data = np.genfromtxt('minutes_n_ingredients.csv', delimiter=',', skip_header=1)\n",
    "\n",
    "minutes_index = 1\n",
    "ingredients_count_index = 2\n",
    "\n",
    "simple_recipe_condition = (data[:, minutes_index] <= 20) & (data[:, ingredients_count_index] <= 5)\n",
    "\n",
    "# подсчет простых\n",
    "simple_recipes_count = np.sum(simple_recipe_condition)\n",
    "\n",
    "# общий подсчёт \n",
    "total_recipes_count = len(data)\n",
    "\n",
    "# вычисление процента простых\n",
    "simple_recipes = (simple_recipes_count / total_recipes_count) * 100\n",
    "\n",
    "print(simple_recipes, \"%\")"
   ]
  },
  {
   "cell_type": "markdown",
   "metadata": {},
   "source": [
    "14. Разделим рецепты на группы по следующему правилу. Назовем рецепты короткими, если их продолжительность составляет менее 10 минут; стандартными, если их продолжительность составляет более 10, но менее 20 минут; и длинными, если их продолжительность составляет не менее 20 минут. Создайте трехмерный массив, где нулевая ось отвечает за номер группы (короткий, стандартный или длинный рецепт), первая ось - за сам рецепт и вторая ось - за характеристики рецепта. Выберите максимальное количество рецептов из каждой группы таким образом, чтобы было возможно сформировать трехмерный массив. Выведите форму полученного массива."
   ]
  },
  {
   "cell_type": "code",
   "execution_count": 52,
   "metadata": {},
   "outputs": [
    {
     "name": "stdout",
     "output_type": "stream",
     "text": [
      "[[[6.76600e+04 5.00000e+00 6.00000e+00]\n",
      "  [3.66174e+05 7.00000e+00 9.00000e+00]\n",
      "  [2.04134e+05 5.00000e+00 3.00000e+00]\n",
      "  ...\n",
      "  [4.20725e+05 5.00000e+00 3.00000e+00]\n",
      "  [4.74700e+03 0.00000e+00 9.00000e+00]\n",
      "  [3.70915e+05 5.00000e+00 4.00000e+00]]\n",
      "\n",
      " [[9.47460e+04 1.00000e+01 6.00000e+00]\n",
      "  [3.39410e+04 1.80000e+01 9.00000e+00]\n",
      "  [4.46597e+05 1.50000e+01 5.00000e+00]\n",
      "  ...\n",
      "  [9.83100e+03 1.50000e+01 7.00000e+00]\n",
      "  [3.35859e+05 1.20000e+01 1.40000e+01]\n",
      "  [2.56812e+05 1.00000e+01 3.00000e+00]]\n",
      "\n",
      " [[1.27244e+05 6.00000e+01 1.60000e+01]\n",
      "  [2.38910e+04 2.50000e+01 7.00000e+00]\n",
      "  [1.57911e+05 6.00000e+01 1.40000e+01]\n",
      "  ...\n",
      "  [1.68901e+05 2.50000e+01 7.00000e+00]\n",
      "  [3.92339e+05 3.50000e+01 1.30000e+01]\n",
      "  [2.06732e+05 4.50000e+01 1.00000e+01]]]\n"
     ]
    }
   ],
   "source": [
    "import numpy as np\n",
    "\n",
    "data = np.genfromtxt('minutes_n_ingredients.csv', delimiter=',', skip_header=1)\n",
    "\n",
    "minutes_index = 1\n",
    "\n",
    "# фильтр\n",
    "short_recipes = data[data[:, minutes_index] < 10]\n",
    "standard_recipes = data[(data[:, minutes_index] >= 10) & (data[:, minutes_index] < 20)]\n",
    "long_recipes = data[data[:, minutes_index] >= 20]\n",
    "\n",
    "# определение max ко-во\n",
    "max_short = min(len(short_recipes), len(standard_recipes), len(long_recipes))\n",
    "max_standard = max_short\n",
    "max_long = max_short\n",
    "\n",
    "# выборка max кол-во\n",
    "short_recipes = short_recipes[:max_short]\n",
    "standard_recipes = standard_recipes[:max_standard]\n",
    "long_recipes = long_recipes[:max_long]\n",
    "\n",
    "# массив\n",
    "recipes_array = np.array([short_recipes, standard_recipes, long_recipes])\n",
    "\n",
    "print(recipes_array.shape)"
   ]
  },
  {
   "cell_type": "code",
   "execution_count": null,
   "metadata": {},
   "outputs": [],
   "source": []
  }
 ],
 "metadata": {
  "kernelspec": {
   "display_name": "Python 3 (ipykernel)",
   "language": "python",
   "name": "python3"
  },
  "language_info": {
   "codemirror_mode": {
    "name": "ipython",
    "version": 3
   },
   "file_extension": ".py",
   "mimetype": "text/x-python",
   "name": "python",
   "nbconvert_exporter": "python",
   "pygments_lexer": "ipython3",
   "version": "3.11.4"
  }
 },
 "nbformat": 4,
 "nbformat_minor": 4
}
