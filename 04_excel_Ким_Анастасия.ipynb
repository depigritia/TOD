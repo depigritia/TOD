{
 "cells": [
  {
   "cell_type": "markdown",
   "metadata": {},
   "source": [
    "# Работа с Excel"
   ]
  },
  {
   "cell_type": "markdown",
   "metadata": {},
   "source": [
    "Материалы:\n",
    "* Макрушин С.В. Лекция 7: Работа с Excel\n",
    "* https://docs.xlwings.org/en/stable/quickstart.html\n",
    "* https://nbviewer.jupyter.org/github/pybokeh/jupyter_notebooks/blob/master/xlwings/Excel_Formatting.ipynb#search_text\n"
   ]
  },
  {
   "cell_type": "markdown",
   "metadata": {},
   "source": [
    "## Задачи для совместного разбора"
   ]
  },
  {
   "cell_type": "markdown",
   "metadata": {},
   "source": [
    "1. На листе \"Рецептура\" файла `себестоимостьА_в1.xlsx` для области \"Пшеничный хлеб\" рассчитать себестоимость всех видов продукции."
   ]
  },
  {
   "cell_type": "code",
   "execution_count": null,
   "metadata": {},
   "outputs": [],
   "source": []
  },
  {
   "cell_type": "markdown",
   "metadata": {},
   "source": [
    "2. Результаты расчетов 1.1 сохранить в отдельном столбце области \"Пшеничный хлеб\""
   ]
  },
  {
   "cell_type": "markdown",
   "metadata": {},
   "source": [
    "3. Приблизить форматирование столбца, добавленного в задаче 2 к оформлению всей области."
   ]
  },
  {
   "cell_type": "markdown",
   "metadata": {},
   "source": [
    "4. Выполнить 3 с помощью \"протягиваемых\" формул."
   ]
  },
  {
   "cell_type": "markdown",
   "metadata": {},
   "source": [
    "## Лабораторная работа 7.1"
   ]
  },
  {
   "cell_type": "markdown",
   "metadata": {},
   "source": [
    "1. Загрузите данные из файлов `reviews_sample.csv` (__ЛР2__) и `recipes_sample.csv` (__ЛР5__) в виде `pd.DataFrame`. Обратите внимание на корректное считывание столбца(ов) с индексами. Оставьте в таблице с рецептами следующие столбцы: `id`, `name`, `minutes`, `submitted`, `description`, `n_ingredients`"
   ]
  },
  {
   "cell_type": "code",
   "execution_count": 3,
   "metadata": {},
   "outputs": [
    {
     "name": "stdout",
     "output_type": "stream",
     "text": [
      "      id                                      name  minutes   submitted  \\\n",
      "0  44123     george s at the cove  black bean soup       90  2002-10-25   \n",
      "1  67664        healthy for them  yogurt popsicles       10  2003-07-26   \n",
      "2  38798              i can t believe it s spinach       30  2002-08-29   \n",
      "3  35173                      italian  gut busters       45  2002-07-27   \n",
      "4  84797  love is in the air  beef fondue   sauces       25  2004-02-23   \n",
      "\n",
      "                                         description  n_ingredients  \n",
      "0  an original recipe created by chef scott meska...           18.0  \n",
      "1  my children and their friends ask for my homem...            NaN  \n",
      "2            these were so go, it surprised even me.            8.0  \n",
      "3  my sister-in-law made these for us at a family...            NaN  \n",
      "4  i think a fondue is a very romantic casual din...            NaN  \n"
     ]
    }
   ],
   "source": [
    "import pandas as pd\n",
    "\n",
    "reviews_df = pd.read_csv(\"reviews_sample.csv\")\n",
    "recipes_df = pd.read_csv(\"recipes_sample.csv\")\n",
    "\n",
    "# нужные столбцы\n",
    "recipes_df = recipes_df[['id', 'name', 'minutes', 'submitted', 'description', 'n_ingredients']]\n",
    "\n",
    "print(recipes_df.head())"
   ]
  },
  {
   "cell_type": "markdown",
   "metadata": {},
   "source": [
    "2. Случайным образом выберите 5% строк из каждой таблицы и сохраните две таблицы на разные листы в один файл `recipes.xlsx`. Дайте листам названия \"Рецепты\" и \"Отзывы\", соответствующие содержанию таблиц. "
   ]
  },
  {
   "cell_type": "code",
   "execution_count": 26,
   "metadata": {},
   "outputs": [],
   "source": [
    "import pandas as pd\n",
    "from openpyxl import Workbook\n",
    "\n",
    "reviews_df = pd.read_csv(\"reviews_sample.csv\")\n",
    "recipes_df = pd.read_csv(\"recipes_sample.csv\")\n",
    "\n",
    "# случайные 5% строк из каждой таблицы\n",
    "recipes_sample = recipes_df.sample(frac=0.05, random_state=42)\n",
    "\n",
    "# новый файл Excel\n",
    "with pd.ExcelWriter(\"recipes.xlsx\", engine='openpyxl') as writer:\n",
    "    # запись с рецептами на лист \"Рецепты\"\n",
    "    recipes_sample.to_excel(writer, sheet_name=\"Рецепты\", index=False)\n",
    "    \n",
    "    # запись  с отзывами на новый лист \"Отзывы\"\n",
    "    reviews_sample.to_excel(writer, sheet_name=\"Отзывы\", index=False)"
   ]
  },
  {
   "cell_type": "markdown",
   "metadata": {},
   "source": [
    "3. Используя `xlwings`, добавьте на лист `Рецепты` столбец `seconds_assign`, показывающий время выполнения рецепта в секундах. Выполните задание при помощи присваивания массива значений диапазону ячеек."
   ]
  },
  {
   "cell_type": "code",
   "execution_count": 5,
   "metadata": {},
   "outputs": [],
   "source": [
    "import pandas as pd\n",
    "import xlwings as xw\n",
    "\n",
    "wb = xw.Book(\"recipes.xlsx\")\n",
    "sheet = wb.sheets[\"Рецепты\"]\n",
    "recipes_df = sheet.range(\"A1\").expand().options(pd.DataFrame).value\n",
    "\n",
    "# вычисление времени выполнения в секундах\n",
    "recipes_df['seconds_assign'] = recipes_df['minutes'] * 60\n",
    "\n",
    "# + нового столбца seconds_assign в файл Excel\n",
    "sheet.range('I1').options(index=False).value = recipes_df['seconds_assign']\n",
    "\n",
    "wb.save()\n",
    "wb.close()"
   ]
  },
  {
   "cell_type": "markdown",
   "metadata": {},
   "source": [
    "4. Используя `xlwings`, добавьте на лист `Рецепты` столбец `seconds_formula`, показывающий время выполнения рецепта в секундах. Выполните задание при помощи формул Excel."
   ]
  },
  {
   "cell_type": "code",
   "execution_count": 10,
   "metadata": {},
   "outputs": [],
   "source": [
    "import xlwings as xw\n",
    "\n",
    "wb = xw.Book(\"recipes.xlsx\")\n",
    "sheet = wb.sheets[\"Рецепты\"]\n",
    "\n",
    "# + формула для столбца seconds_formula\n",
    "sheet.range('J1').value = 'seconds_formula'\n",
    "# столбец минуты умножаем на 60\n",
    "sheet.range('J2').formula = \"=C2*60\"\n",
    "# заполнение ячеек формулой сверху\n",
    "sheet.range('J2').api.AutoFill(sheet.range('J2:J{}'.format(sheet.range('C1').end('down').row)).api, 0)\n",
    "\n",
    "wb.save()\n",
    "wb.close()"
   ]
  },
  {
   "cell_type": "markdown",
   "metadata": {},
   "source": [
    "5. Сделайте названия всех добавленных столбцов полужирными и выровняйте по центру ячейки."
   ]
  },
  {
   "cell_type": "code",
   "execution_count": 11,
   "metadata": {},
   "outputs": [],
   "source": [
    "import xlwings as xw\n",
    "\n",
    "wb = xw.Book(\"recipes.xlsx\")\n",
    "sheet = wb.sheets[\"Рецепты\"]\n",
    "\n",
    "# + формула для столбца seconds_formula\n",
    "sheet.range('K1').value = 'seconds_formula'\n",
    "sheet.range('K2').formula = \"=C2*60\"\n",
    "sheet.range('K2').api.AutoFill(sheet.range('K2:K{}'.format(sheet.range('C1').end('down').row)).api, 0)\n",
    "\n",
    "# форматирует заголовок столбца жирным и выравнивает по центру\n",
    "header_range = sheet.range('K1')\n",
    "header_range.api.Font.Bold = True\n",
    "header_range.api.HorizontalAlignment = xw.constants.HAlign.xlHAlignCenter\n",
    "\n",
    "wb.save()\n",
    "wb.close()"
   ]
  },
  {
   "cell_type": "markdown",
   "metadata": {},
   "source": [
    "6. Раскрасьте ячейки столбца `minutes` в соответствии со следующим правилом: если рецепт выполняется быстрее 5 минут, то цвет - зеленый; от 5 до 10 минут - жёлтый; и больше 10 - красный."
   ]
  },
  {
   "cell_type": "code",
   "execution_count": 14,
   "metadata": {},
   "outputs": [],
   "source": [
    "import xlwings as xw\n",
    "\n",
    "wb = xw.Book(\"recipes.xlsx\")\n",
    "sheet = wb.sheets[\"Рецепты\"]\n",
    "\n",
    "# + формула для столбца seconds_formula\n",
    "sheet.range('K1').value = 'seconds_formula'\n",
    "sheet.range('K2').formula = \"=C2*60\"\n",
    "sheet.range('K2').api.AutoFill(sheet.range('K2:K{}'.format(sheet.range('C1').end('down').row)).api, 0)\n",
    "\n",
    "# раскраска ячеек\n",
    "minutes_range = sheet.range('C2:C{}'.format(sheet.range('C1').end('down').row))\n",
    "for cell in minutes_range:\n",
    "    if cell.value < 5:\n",
    "        cell.color = (0, 255, 0)  # зленый\n",
    "    elif 5 <= cell.value <= 10:\n",
    "        cell.color = (255, 255, 0)  # желтый\n",
    "    else:\n",
    "        cell.color = (255, 0, 0)  # красный\n",
    "\n",
    "# форматирование заголовков \n",
    "header_range = sheet.range('K1')\n",
    "header_range.api.Font.Bold = True\n",
    "header_range.api.HorizontalAlignment = xw.constants.HAlign.xlHAlignCenter\n",
    "\n",
    "wb.save()\n",
    "wb.close()"
   ]
  },
  {
   "cell_type": "markdown",
   "metadata": {},
   "source": [
    "7. Добавьте на лист `Рецепты`  столбец `n_reviews`, содержащий кол-во отзывов для этого рецепта. Выполните задание при помощи формул Excel."
   ]
  },
  {
   "cell_type": "code",
   "execution_count": 12,
   "metadata": {},
   "outputs": [
    {
     "ename": "SyntaxError",
     "evalue": "expected 'except' or 'finally' block (1735026232.py, line 24)",
     "output_type": "error",
     "traceback": [
      "\u001b[1;36m  Cell \u001b[1;32mIn[12], line 24\u001b[1;36m\u001b[0m\n\u001b[1;33m    add_n_reviews_column()\u001b[0m\n\u001b[1;37m                          ^\u001b[0m\n\u001b[1;31mSyntaxError\u001b[0m\u001b[1;31m:\u001b[0m expected 'except' or 'finally' block\n"
     ]
    }
   ],
   "source": [
    "import xlwings as xw\n",
    "\n",
    "def n_reviews_column():\n",
    "    try:\n",
    "        wb = xw.Book(\"recipes.xlsx\")\n",
    "        sheet_recipes = wb.sheets[\"Рецепты\"]\n",
    "        \n",
    "        # последняя строка на листе \"Рецепты\"\n",
    "        last_row = sheet_recipes.range('A' + str(sheet_recipes.cells.last_cell.row)).end('up').row\n",
    "        \n",
    "        # заголовок\n",
    "        sheet_recipes.range('G1').value = 'n_reviews'\n",
    "        \n",
    "        # формула Excel для подсчета кол-ва отзывов\n",
    "        for i in range(2, last_row + 1):\n",
    "            recipe_id = sheet_recipes.range('A' + str(i)).value\n",
    "            reviews_count_formula = f'=COUNTIF(Отзывы!A:A, {recipe_id})'\n",
    "            sheet_recipes.range('G' + str(i)).formula = reviews_count_formula\n",
    "        \n",
    "        wb.save()\n",
    "        wb.close()\n",
    "\n",
    "# вызов \n",
    "add_n_reviews_column()\n"
   ]
  },
  {
   "cell_type": "markdown",
   "metadata": {},
   "source": [
    "## Лабораторная работа 7.2"
   ]
  },
  {
   "cell_type": "markdown",
   "metadata": {},
   "source": [
    "8. Напишите функцию `validate()`, которая проверяет соответствие всех строк из листа `Отзывы` следующим правилам:\n",
    "    * Рейтинг - это число от 0 до 5 включительно\n",
    "    * Соответствующий рецепт имеется на листе `Рецепты`\n",
    "    \n",
    "В случае несоответствия этим правилам, выделите строку красным цветом"
   ]
  },
  {
   "cell_type": "code",
   "execution_count": null,
   "metadata": {},
   "outputs": [],
   "source": [
    "import xlwings as xw\n",
    "\n",
    "def validate():\n",
    "    wb = xw.Book(\"recipes.xlsx\")\n",
    "    sheet_reviews = wb.sheets[\"Отзывы\"]\n",
    "    sheet_recipes = wb.sheets[\"Рецепты\"]\n",
    "    \n",
    "    # определение последней строки в отзывах \n",
    "    last_row = sheet_reviews.range('A' + str(sheet_reviews.cells.last_cell.row)).end('up').row\n",
    "    \n",
    "    # проверка каждой строки\n",
    "    for i in range(2, last_row + 1):  # пропуск заголовка\n",
    "        rating = sheet_reviews.range('B' + str(i)).value\n",
    "        recipe_id = sheet_reviews.range('A' + str(i)).value\n",
    "        \n",
    "        # проверка рейтинга\n",
    "        if rating is None or not (0 <= rating <= 5):\n",
    "            sheet_reviews.range('B' + str(i)).color = (255, 0, 0)  # красный цвет для рейтинга\n",
    "        \n",
    "        # Проверка наличия рецепта на листе \"Рецепты\"\n",
    "        if recipe_id not in sheet_recipes.range('A:A').value:\n",
    "            sheet_reviews.range('A' + str(i)).color = (255, 0, 0)  # красный цвет для ID\n",
    "    \n",
    "    wb.save()\n",
    "    wb.close()\n",
    "\n",
    "# вызов\n",
    "validate()\n"
   ]
  },
  {
   "cell_type": "markdown",
   "metadata": {},
   "source": [
    "9. В файле `recipes_model.csv` находится модель данных предметной области \"рецепты\". При помощи пакета `csv` считайте эти данные. При помощи пакета `xlwings` запишите данные на лист `Модель` книги `recipes_model.xlsx`, начиная с ячейки `A2`, не используя циклы. Сделайте скриншот текущего состояния листа и прикрепите в ячейку ноутбука. "
   ]
  },
  {
   "cell_type": "code",
   "execution_count": null,
   "metadata": {},
   "outputs": [],
   "source": []
  },
  {
   "cell_type": "markdown",
   "metadata": {},
   "source": [
    "10. При помощи пакета `xlwings` добавьте в столбец J формулу для описания столбца на языке SQL. Формула должна реализовывать следующую логику:\n",
    "\n",
    "    1\\. в начале строки идут значения из столбцов В и C (значение столбца С приведено к верхнему регистру), разделенные пробелом\n",
    "    \n",
    "    2\\. далее идут слова на основе столбца \"Ключ\"\n",
    "        2.1 если в столбце \"Ключ\" указано значение \"PK\", то дальше через пробел идет ключевое слово \"PRIMARY KEY\"\n",
    "        2.2 если в столбце \"Ключ\" указано значение \"FK\", то дальше через пробел идет ключевое слово \"REFERENCES\", затем значения столбцов H и I в формате \"название_таблицы(название_столбца)\"\n",
    "        \n",
    "    3\\. если в столбце \"Обязательно к заполнению\" указано значение \"Y\" и в столбце \"Ключ\" указано не \"PK\", то дальше через пробел идет ключевое слово \"NOT NULL\".\n",
    "\n",
    "Заполните этой формулой необходимое количество строк, используя \"протягивание\". Количество строк для протягивания определите на основе данных.\n",
    "\n",
    "Сделайте скриншот текущего состояния листа и прикрепите в ячейку ноутбука."
   ]
  },
  {
   "cell_type": "markdown",
   "metadata": {},
   "source": [
    "11. При помощи пакета `xlwings` измените стилизацию листа `Модель`.\n",
    "* для заголовков добавьте заливку цвета `00ccff`\n",
    "* примените автоподбор ширины столбца;\n",
    "* сделайте шрифт заголовков полужирным;\n",
    "* добавьте таблице автофильтр.\n",
    "\n",
    "Сделайте скриншот текущего состояния листа и прикрепите в ячейку ноутбука."
   ]
  },
  {
   "cell_type": "markdown",
   "metadata": {},
   "source": [
    "12. Посчитайте количество атрибутов для каждой из сущностей. Создайте лист `Статистика` и запишите в него результат группировки, начиная с ячейки \"А1\". Визуализируйте полученный результат при помощи столбчатой диаграммы. Сохраните полученную визуализацию на лист `Статистика`, начиная с ячейки \"E2\".  Сделайте скриншот листа `Статистика` и прикрепите в ячейку ноутбука.\n",
    "\n",
    "* Вы можете воспользоваться методами для визуализации, которые поставляются вместе с объектами `pandas` (см. https://pandas.pydata.org/docs/reference/api/pandas.DataFrame.plot) "
   ]
  }
 ],
 "metadata": {
  "kernelspec": {
   "display_name": "Python 3 (ipykernel)",
   "language": "python",
   "name": "python3"
  },
  "language_info": {
   "codemirror_mode": {
    "name": "ipython",
    "version": 3
   },
   "file_extension": ".py",
   "mimetype": "text/x-python",
   "name": "python",
   "nbconvert_exporter": "python",
   "pygments_lexer": "ipython3",
   "version": "3.11.4"
  }
 },
 "nbformat": 4,
 "nbformat_minor": 4
}
